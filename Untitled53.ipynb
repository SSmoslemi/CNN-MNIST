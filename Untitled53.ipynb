{
  "nbformat": 4,
  "nbformat_minor": 0,
  "metadata": {
    "colab": {
      "provenance": []
    },
    "kernelspec": {
      "name": "python3",
      "display_name": "Python 3"
    },
    "language_info": {
      "name": "python"
    }
  },
  "cells": [
    {
      "cell_type": "code",
      "source": [],
      "metadata": {
        "id": "aznd97r-Rm8a"
      },
      "execution_count": null,
      "outputs": []
    },
    {
      "cell_type": "code",
      "source": [
        "\n",
        "\n",
        "\n"
      ],
      "metadata": {
        "id": "DtwwqFonRm16"
      },
      "execution_count": 30,
      "outputs": []
    },
    {
      "cell_type": "code",
      "execution_count": 15,
      "metadata": {
        "id": "UuVyRLVcOkyU"
      },
      "outputs": [],
      "source": []
    },
    {
      "cell_type": "code",
      "source": [
        "# Import کتابخانه‌های مورد نیاز\n",
        "import cv2\n",
        "import numpy as np\n",
        "import matplotlib.pyplot as plt\n",
        "from keras.models import load_model\n",
        "from keras.datasets import mnist\n",
        "from keras.utils import to_categorical\n",
        "import os\n",
        "\n",
        "# 1. بارگیری یا آموزش مدل\n",
        "def load_or_train_model():\n",
        "    # بررسی وجود فایل مدل\n",
        "    if os.path.exists('model_mnist.h5'):\n",
        "        print(\"بارگیری مدل از فایل ذخیره شده...\")\n",
        "        model = load_model('model_mnist.h5')\n",
        "    else:\n",
        "        print(\"آموزش مدل جدید...\")\n",
        "        # بارگیری داده‌های MNIST\n",
        "        (X_train, y_train), (X_test, y_test) = mnist.load_data()\n",
        "\n",
        "        # پیش‌پردازش داده‌ها\n",
        "        X_train = X_train.reshape(-1, 28, 28, 1).astype('float32') / 255.0\n",
        "        X_test = X_test.reshape(-1, 28, 28, 1).astype('float32') / 255.0\n",
        "        y_train = to_categorical(y_train, 10)\n",
        "        y_test = to_categorical(y_test, 10)\n",
        "\n",
        "        # ساخت مدل CNN\n",
        "        from keras.models import Sequential\n",
        "        from keras.layers import Conv2D, MaxPooling2D, Flatten, Dense, Dropout\n",
        "\n",
        "        model = Sequential([\n",
        "            Conv2D(32, (3, 3), activation='relu', input_shape=(28, 28, 1)),\n",
        "            MaxPooling2D((2, 2)),\n",
        "            Conv2D(64, (3, 3), activation='relu'),\n",
        "            MaxPooling2D((2, 2)),\n",
        "            Flatten(),\n",
        "            Dense(128, activation='relu'),\n",
        "            Dropout(0.5),\n",
        "            Dense(10, activation='softmax')\n",
        "        ])\n",
        "\n",
        "        # کامپایل و آموزش مدل\n",
        "        model.compile(optimizer='adam', loss='categorical_crossentropy', metrics=['accuracy'])\n",
        "        model.fit(X_train, y_train, epochs=5, batch_size=64, validation_data=(X_test, y_test))\n",
        "\n",
        "        # ذخیره مدل\n",
        "        model.save('model_mnist.h5')\n",
        "        print(\"مدل آموزش داده و ذخیره شد.\")\n",
        "\n",
        "    return model\n",
        "\n",
        "# 2. تابع پیش‌پردازش تصویر ورودی\n",
        "def preprocess_image(image_path):\n",
        "    # خواندن تصویر به صورت grayscale\n",
        "    img = cv2.imread(image_path, cv2.IMREAD_GRAYSCALE)\n",
        "\n",
        "    if img is None:\n",
        "        raise ValueError(f\"نمی‌توان تصویر را از مسیر {image_path} بارگیری کرد\")\n",
        "\n",
        "    # تغییر سایز به 28x28 پیکسل\n",
        "    img = cv2.resize(img, (28, 28))\n",
        "\n",
        "    # معکوس کردن رنگ (اگر زمینه تصویر تیره است)\n",
        "    img = cv2.bitwise_not(img)\n",
        "\n",
        "    # نرمال سازی به محدوده [0, 1]\n",
        "    img = img.astype('float32') / 255.0\n",
        "\n",
        "    # تغییر شکل به (1, 28, 28, 1)\n",
        "    img = np.expand_dims(img, axis=0)  # بعد batch\n",
        "    img = np.expand_dims(img, axis=-1)  # بعد channel\n",
        "\n",
        "    return img\n",
        "\n",
        "# 3. تابع اصلی برای تشخیص عدد\n",
        "def recognize_digit(image_path):\n",
        "    # بارگیری یا آموزش مدل\n",
        "    model = load_or_train_model()\n",
        "\n",
        "    try:\n",
        "        # پیش‌پردازش تصویر\n",
        "        processed_img = preprocess_image(image_path)\n",
        "\n",
        "        # بررسی شکل تصویر پردازش شده\n",
        "        print(\"شکل تصویر پردازش شده:\", processed_img.shape)  # باید (1, 28, 28, 1) باشد\n",
        "\n",
        "        # نمایش تصویر ورودی\n",
        "        plt.imshow(processed_img[0, :, :, 0], cmap='gray')\n",
        "        plt.title(\"تصویر ورودی پس از پیش‌پردازش\")\n",
        "        plt.show()\n",
        "\n",
        "        # پیش‌بینی مدل\n",
        "        prediction = model.predict(processed_img)\n",
        "        predicted_number = np.argmax(prediction)\n",
        "        confidence = np.max(prediction) * 100\n",
        "\n",
        "        print(f\"\\nنتیجه تشخیص: عدد {predicted_number} با اطمینان {confidence:.2f}%\")\n",
        "\n",
        "        return predicted_number, confidence\n",
        "\n",
        "    except Exception as e:\n",
        "        print(\"خطا در پردازش تصویر:\", str(e))\n",
        "        return None, None\n",
        "\n",
        "# 4. استفاده از تابع\n",
        "if __name__ == \"__main__\":\n",
        "    # مسیر تصویر مورد نظر را اینجا قرار دهید\n",
        "    image_path = \"/content/CNN-MNIST/number.jpg\"  # یا مسیر کامل مانند '/content/number.jpg'\n",
        "\n",
        "    # تشخیص عدد\n",
        "    digit, confidence = recognize_digit(image_path)\n",
        "\n",
        "    if digit is not None:\n",
        "        print(f\"\\nعدد تشخیص داده شده: {digit} با اطمینان {confidence:.2f}%\")"
      ],
      "metadata": {
        "colab": {
          "base_uri": "https://localhost:8080/",
          "height": 591
        },
        "id": "aobsNKczPfCb",
        "outputId": "e4d4118b-7fc9-4993-8700-2294c9b9a90b"
      },
      "execution_count": 2,
      "outputs": [
        {
          "output_type": "stream",
          "name": "stderr",
          "text": [
            "WARNING:absl:Compiled the loaded model, but the compiled metrics have yet to be built. `model.compile_metrics` will be empty until you train or evaluate the model.\n"
          ]
        },
        {
          "output_type": "stream",
          "name": "stdout",
          "text": [
            "بارگیری مدل از فایل ذخیره شده...\n",
            "شکل تصویر پردازش شده: (1, 28, 28, 1)\n"
          ]
        },
        {
          "output_type": "display_data",
          "data": {
            "text/plain": [
              "<Figure size 640x480 with 1 Axes>"
            ],
            "image/png": "[encoded data removed]"
          },
          "metadata": {}
        },
        {
          "output_type": "stream",
          "name": "stdout",
          "text": [
            "\u001b[1m1/1\u001b[0m \u001b[32m━━━━━━━━━━━━━━━━━━━━\u001b[0m\u001b[37m\u001b[0m \u001b[1m0s\u001b[0m 98ms/step\n",
            "\n",
            "نتیجه تشخیص: عدد 6 با اطمینان 31.98%\n",
            "\n",
            "عدد تشخیص داده شده: 6 با اطمینان 31.98%\n"
          ]
        }
      ]
    }
  ]
}